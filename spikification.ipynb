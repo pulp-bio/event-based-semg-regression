{
 "cells": [
  {
   "cell_type": "code",
   "execution_count": null,
   "metadata": {},
   "outputs": [],
   "source": [
    "from itertools import product\n",
    "\n",
    "from semg_spike_regression.dataset import ninaprodb8 as db8\n",
    "from semg_spike_regression.cochlear import bands\n",
    "from semg_spike_regression.cochlear import lif"
   ]
  },
  {
   "cell_type": "code",
   "execution_count": null,
   "metadata": {},
   "outputs": [],
   "source": [
    "# set to process, zero-based indexed)\n",
    "subj_list = [\n",
    "    0 , 1, 2, 3, 4, 5, 6, 7, 8, 9, 10, 11,\n",
    "]\n",
    "ex_list = [\n",
    "    0,\n",
    "]\n",
    "acq_list = [\n",
    "    0, 1, 2,\n",
    "]\n",
    "\n",
    "for idx_subj, idx_ex, idx_acq in product(subj_list, ex_list, acq_list):\n",
    "\n",
    "    print(\n",
    "        f\"\\n\\n\\n \"\n",
    "        f\"SUBJECT {1 + idx_subj}/{db8.NUM_SUBJECTS}, \"\n",
    "        f\"EXERCISE {1 + idx_ex}/{db8.NUM_EXERCISES}, \"\n",
    "        f\"ACQUISITION {1 + idx_acq}/{db8.NUM_ACQUISITIONS} \"\n",
    "        f\"\\n\\n\\n\"\n",
    "    )\n",
    "\n",
    "    # ----------------------------------------------------------------------- #\n",
    "    # Load the original released raw data\n",
    "    # ----------------------------------------------------------------------- #\n",
    "    x_raw, y_doa = db8.load_downloaded_session(\n",
    "        idx_subj, idx_ex, idx_acq, verbose=True)\n",
    "\n",
    "    # ----------------------------------------------------------------------- #\n",
    "    # Band-pass filtering\n",
    "    # ----------------------------------------------------------------------- #\n",
    "\n",
    "    x_bp = bands.filter_multi_bands_multi_channel(\n",
    "        x=x_raw,\n",
    "        f_hz=db8.FS_HZ,\n",
    "        order=bands.ORDER,\n",
    "        bands_hz_list=bands.BANDS_HZ_LIST,\n",
    "        bandplot=False,\n",
    "    )\n",
    "    \n",
    "    # ----------------------------------------------------------------------- #\n",
    "    # Pass into LIF\n",
    "    # ----------------------------------------------------------------------- #\n",
    "    \n",
    "    x_drive = lif.data2xdrive(x_bp, lif.GAIN_DATA2XDRIVE)\n",
    "\n",
    "    x, spike_times_s, spike_neuron_ids = lif.lif_presynaptic(\n",
    "        x_drive=x_drive,\n",
    "        fs_hz=db8.FS_HZ,\n",
    "        dt_sim_s=db8.TS_S,\n",
    "        monitors_dt_s=db8.TS_S,\n",
    "        report='stdout',\n",
    "    )\n",
    "    \n",
    "    num_spikes = len(spike_times_s)\n",
    "    print(f\"Total spikes: {num_spikes}\")\n",
    "    \n",
    "    # save spikified session\n",
    "    x_lif_presynaptic = {\n",
    "        'x': x,\n",
    "        'spike_times_s': spike_times_s,\n",
    "        'spike_neuron_ids': spike_neuron_ids,\n",
    "    }\n",
    "    db8.save_processed_session(\n",
    "        idx_subj, idx_ex, idx_acq,\n",
    "        x=x_lif_presynaptic, y_doa=y_doa,\n",
    "        done_stage=db8.ProcessingStage.SPIKIFY,\n",
    "    )"
   ]
  },
  {
   "cell_type": "code",
   "execution_count": null,
   "metadata": {},
   "outputs": [],
   "source": []
  }
 ],
 "metadata": {
  "kernelspec": {
   "display_name": "Python 3",
   "language": "python",
   "name": "python3"
  },
  "language_info": {
   "codemirror_mode": {
    "name": "ipython",
    "version": 3
   },
   "file_extension": ".py",
   "mimetype": "text/x-python",
   "name": "python",
   "nbconvert_exporter": "python",
   "pygments_lexer": "ipython3",
   "version": "3.8.5"
  },
  "orig_nbformat": 4,
  "vscode": {
   "interpreter": {
    "hash": "31f2aee4e71d21fbe5cf8b01ff0e069b9275f58929596ceb00d14d90e3e16cd6"
   }
  }
 },
 "nbformat": 4,
 "nbformat_minor": 2
}
